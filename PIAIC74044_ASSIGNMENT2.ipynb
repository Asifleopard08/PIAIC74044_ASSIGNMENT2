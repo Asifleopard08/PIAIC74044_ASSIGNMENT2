{
  "nbformat": 4,
  "nbformat_minor": 0,
  "metadata": {
    "colab": {
      "name": "PIAIC74044_ASSIGNMENT2.ipynb",
      "provenance": [],
      "authorship_tag": "ABX9TyNbf55JjTkeWJi8Wjg1E82+",
      "include_colab_link": true
    },
    "kernelspec": {
      "name": "python3",
      "display_name": "Python 3"
    }
  },
  "cells": [
    {
      "cell_type": "markdown",
      "metadata": {
        "id": "view-in-github",
        "colab_type": "text"
      },
      "source": [
        "<a href=\"https://colab.research.google.com/github/Asifleopard08/PIAIC74044_ASSIGNMENT2/blob/main/PIAIC74044_ASSIGNMENT2.ipynb\" target=\"_parent\"><img src=\"https://colab.research.google.com/assets/colab-badge.svg\" alt=\"Open In Colab\"/></a>"
      ]
    },
    {
      "cell_type": "code",
      "metadata": {
        "id": "Vnpls2t8mQWU"
      },
      "source": [
        "                                           ### NUMPY ASSIGNMENT#02\r\n",
        "                                           ###MUHAMMAD ASIF\r\n",
        "                                           ### PIAIC#74044\r\n",
        "import numpy as np"
      ],
      "execution_count": 7,
      "outputs": []
    },
    {
      "cell_type": "code",
      "metadata": {
        "colab": {
          "base_uri": "https://localhost:8080/"
        },
        "id": "8styeNm2nOMn",
        "outputId": "8d3e1ca7-13a3-447b-fa51-ec2e90977e56"
      },
      "source": [
        "#Question:1\r\n",
        "#Convert a 1D array to a 2D array with 2 rows?\r\n",
        "#array([[0, 1, 2, 3, 4], [5, 6, 7, 8, 9]])\r\n",
        "X = np.array([[0, 1, 2, 3, 4], [5, 6, 7, 8, 9]])\r\n",
        "X"
      ],
      "execution_count": 9,
      "outputs": [
        {
          "output_type": "execute_result",
          "data": {
            "text/plain": [
              "array([[0, 1, 2, 3, 4],\n",
              "       [5, 6, 7, 8, 9]])"
            ]
          },
          "metadata": {
            "tags": []
          },
          "execution_count": 9
        }
      ]
    },
    {
      "cell_type": "code",
      "metadata": {
        "colab": {
          "base_uri": "https://localhost:8080/"
        },
        "id": "Sx6LSr8On7Y1",
        "outputId": "ecca2908-51f2-4fa7-c5c6-b4cbc0efd9d2"
      },
      "source": [
        "#Question:2\r\n",
        "#How to stack two arrays vertically?\r\n",
        "#Desired Output::\r\n",
        "#array([[0, 1, 2, 3, 4], [5, 6, 7, 8, 9], [1, 1, 1, 1, 1], [1, 1, 1, 1, 1]])\r\n",
        "Y = np.array([[0, 1, 2, 3, 4], [5, 6, 7, 8, 9]])\r\n",
        "Z = np.array([[1, 1, 1, 1, 1], [1, 1, 1, 1, 1]])\r\n",
        "Z_1 = np.vstack((Y, Z))\r\n",
        "Z_1"
      ],
      "execution_count": 16,
      "outputs": [
        {
          "output_type": "execute_result",
          "data": {
            "text/plain": [
              "array([[0, 1, 2, 3, 4],\n",
              "       [5, 6, 7, 8, 9],\n",
              "       [1, 1, 1, 1, 1],\n",
              "       [1, 1, 1, 1, 1]])"
            ]
          },
          "metadata": {
            "tags": []
          },
          "execution_count": 16
        }
      ]
    },
    {
      "cell_type": "code",
      "metadata": {
        "colab": {
          "base_uri": "https://localhost:8080/"
        },
        "id": "HSHIZq1nwUor",
        "outputId": "0e8f6163-8274-4639-d12c-5d159159a227"
      },
      "source": [
        "#Question:3\r\n",
        "#How to stack two arrays horizontally?\r\n",
        "#Desired Output::\r\n",
        "#array([[0, 1, 2, 3, 4, 1, 1, 1, 1, 1], [5, 6, 7, 8, 9, 1, 1, 1, 1, 1]])\r\n",
        "Z_1 = np.hstack((X, Y))\r\n",
        "Z_1"
      ],
      "execution_count": 17,
      "outputs": [
        {
          "output_type": "execute_result",
          "data": {
            "text/plain": [
              "array([[0, 1, 2, 3, 4, 0, 1, 2, 3, 4],\n",
              "       [5, 6, 7, 8, 9, 5, 6, 7, 8, 9]])"
            ]
          },
          "metadata": {
            "tags": []
          },
          "execution_count": 17
        }
      ]
    },
    {
      "cell_type": "code",
      "metadata": {
        "colab": {
          "base_uri": "https://localhost:8080/"
        },
        "id": "QDfI8LPvx9Lm",
        "outputId": "3d2ca66e-8838-4fd3-c664-764e19289a6a"
      },
      "source": [
        "#Question:4\r\n",
        "#How to convert an array of arrays into a flat 1d array?\r\n",
        "#Desired Output::\r\n",
        "#array([0, 1, 2, 3, 4, 5, 6, 7, 8, 9])\r\n",
        "Y_1 = np.arange(0, 10).reshape(1, 10)\r\n",
        "Y_1"
      ],
      "execution_count": 26,
      "outputs": [
        {
          "output_type": "execute_result",
          "data": {
            "text/plain": [
              "array([[0, 1, 2, 3, 4, 5, 6, 7, 8, 9]])"
            ]
          },
          "metadata": {
            "tags": []
          },
          "execution_count": 26
        }
      ]
    },
    {
      "cell_type": "code",
      "metadata": {
        "colab": {
          "base_uri": "https://localhost:8080/"
        },
        "id": "EpMng6dnyk4S",
        "outputId": "28555a93-dd4e-4f54-b7bd-28f5e4b8e8d3"
      },
      "source": [
        "#Question:5\r\n",
        "#How to Convert higher dimension into one dimension?\r\n",
        "#Desired Output::\r\n",
        "#array([ 0, 1, 2, 3, 4, 5, 6, 7, 8, 9, 10, 11, 12, 13, 14])\r\n",
        "X_1 = np.arange(0, 15).reshape(1, 5, 3)\r\n",
        "Y_1 = X_1.ravel()\r\n",
        "Y_1"
      ],
      "execution_count": 33,
      "outputs": [
        {
          "output_type": "execute_result",
          "data": {
            "text/plain": [
              "array([ 0,  1,  2,  3,  4,  5,  6,  7,  8,  9, 10, 11, 12, 13, 14])"
            ]
          },
          "metadata": {
            "tags": []
          },
          "execution_count": 33
        }
      ]
    },
    {
      "cell_type": "code",
      "metadata": {
        "colab": {
          "base_uri": "https://localhost:8080/"
        },
        "id": "taYNKClvFEkC",
        "outputId": "daace999-a326-42b0-f89f-bee70595b2ea"
      },
      "source": [
        "#Question:6\r\n",
        "#Convert one dimension to higher dimension?\r\n",
        "#Desired Output::\r\n",
        "#array([[ 0, 1, 2], [ 3, 4, 5], [ 6, 7, 8], [ 9, 10, 11], [12, 13, 14]])\r\n",
        "Z_1 = np.reshape(Y_1, (5, 3))\r\n",
        "Z_1"
      ],
      "execution_count": 47,
      "outputs": [
        {
          "output_type": "execute_result",
          "data": {
            "text/plain": [
              "array([[ 0,  1,  2],\n",
              "       [ 3,  4,  5],\n",
              "       [ 6,  7,  8],\n",
              "       [ 9, 10, 11],\n",
              "       [12, 13, 14]])"
            ]
          },
          "metadata": {
            "tags": []
          },
          "execution_count": 47
        }
      ]
    },
    {
      "cell_type": "code",
      "metadata": {
        "colab": {
          "base_uri": "https://localhost:8080/"
        },
        "id": "UyyExUSIHPFz",
        "outputId": "331b08cf-4607-41cd-fa51-ed28eb26c644"
      },
      "source": [
        "#Question:7\r\n",
        "#Create 5x5 an array and find the square of an array?\r\n",
        "Z_01 = np.arange(0, 25).reshape(5, 5)\r\n",
        "Z_01"
      ],
      "execution_count": 54,
      "outputs": [
        {
          "output_type": "execute_result",
          "data": {
            "text/plain": [
              "array([[ 0,  1,  2,  3,  4],\n",
              "       [ 5,  6,  7,  8,  9],\n",
              "       [10, 11, 12, 13, 14],\n",
              "       [15, 16, 17, 18, 19],\n",
              "       [20, 21, 22, 23, 24]])"
            ]
          },
          "metadata": {
            "tags": []
          },
          "execution_count": 54
        }
      ]
    },
    {
      "cell_type": "code",
      "metadata": {
        "colab": {
          "base_uri": "https://localhost:8080/"
        },
        "id": "WgHVyydYRXLB",
        "outputId": "5c10f5b7-c370-4d38-f5de-5c66f7e683ec"
      },
      "source": [
        "np.square(Z_01)"
      ],
      "execution_count": 55,
      "outputs": [
        {
          "output_type": "execute_result",
          "data": {
            "text/plain": [
              "array([[  0,   1,   4,   9,  16],\n",
              "       [ 25,  36,  49,  64,  81],\n",
              "       [100, 121, 144, 169, 196],\n",
              "       [225, 256, 289, 324, 361],\n",
              "       [400, 441, 484, 529, 576]])"
            ]
          },
          "metadata": {
            "tags": []
          },
          "execution_count": 55
        }
      ]
    },
    {
      "cell_type": "code",
      "metadata": {
        "colab": {
          "base_uri": "https://localhost:8080/"
        },
        "id": "9f6Ztz_yTtOI",
        "outputId": "5dad2208-e430-483f-95d6-ffd71d28bf05"
      },
      "source": [
        "#Question:8\r\n",
        "#Create 5x6 an array and find the mean?\r\n",
        "Z_0 = np.arange(0, 30).reshape(5, 6)\r\n",
        "Z_0"
      ],
      "execution_count": 56,
      "outputs": [
        {
          "output_type": "execute_result",
          "data": {
            "text/plain": [
              "array([[ 0,  1,  2,  3,  4,  5],\n",
              "       [ 6,  7,  8,  9, 10, 11],\n",
              "       [12, 13, 14, 15, 16, 17],\n",
              "       [18, 19, 20, 21, 22, 23],\n",
              "       [24, 25, 26, 27, 28, 29]])"
            ]
          },
          "metadata": {
            "tags": []
          },
          "execution_count": 56
        }
      ]
    },
    {
      "cell_type": "code",
      "metadata": {
        "colab": {
          "base_uri": "https://localhost:8080/"
        },
        "id": "d-rtrTvTUCcH",
        "outputId": "30fdfe99-49e9-4f68-88b1-645e28dfbbd4"
      },
      "source": [
        "np.mean(Z_0)"
      ],
      "execution_count": 57,
      "outputs": [
        {
          "output_type": "execute_result",
          "data": {
            "text/plain": [
              "14.5"
            ]
          },
          "metadata": {
            "tags": []
          },
          "execution_count": 57
        }
      ]
    },
    {
      "cell_type": "code",
      "metadata": {
        "colab": {
          "base_uri": "https://localhost:8080/"
        },
        "id": "gNqa0JupUHTo",
        "outputId": "f0b99f4c-4aa9-4e25-ca8f-118774c0eec3"
      },
      "source": [
        "#Question:9\r\n",
        "#Find the standard deviation of the previous array in Q8?\r\n",
        "np.std(Z_0)"
      ],
      "execution_count": 58,
      "outputs": [
        {
          "output_type": "execute_result",
          "data": {
            "text/plain": [
              "8.65544144839919"
            ]
          },
          "metadata": {
            "tags": []
          },
          "execution_count": 58
        }
      ]
    },
    {
      "cell_type": "code",
      "metadata": {
        "colab": {
          "base_uri": "https://localhost:8080/"
        },
        "id": "s7WpiowKU8J9",
        "outputId": "90b391fb-6b8c-40f2-b9ee-aa283e99bca0"
      },
      "source": [
        "#Question:10\r\n",
        "#Find the median of the previous array in Q8?\r\n",
        "np.median(Z_0)"
      ],
      "execution_count": 60,
      "outputs": [
        {
          "output_type": "execute_result",
          "data": {
            "text/plain": [
              "14.5"
            ]
          },
          "metadata": {
            "tags": []
          },
          "execution_count": 60
        }
      ]
    },
    {
      "cell_type": "code",
      "metadata": {
        "colab": {
          "base_uri": "https://localhost:8080/"
        },
        "id": "DpVp9rpsVSMy",
        "outputId": "894a229c-a59c-4b00-cbe9-0d95282c4f30"
      },
      "source": [
        "#Question:11\r\n",
        "#Find the transpose of the previous array in Q8?\r\n",
        "np.transpose(Z_0)"
      ],
      "execution_count": 62,
      "outputs": [
        {
          "output_type": "execute_result",
          "data": {
            "text/plain": [
              "array([[ 0,  6, 12, 18, 24],\n",
              "       [ 1,  7, 13, 19, 25],\n",
              "       [ 2,  8, 14, 20, 26],\n",
              "       [ 3,  9, 15, 21, 27],\n",
              "       [ 4, 10, 16, 22, 28],\n",
              "       [ 5, 11, 17, 23, 29]])"
            ]
          },
          "metadata": {
            "tags": []
          },
          "execution_count": 62
        }
      ]
    },
    {
      "cell_type": "code",
      "metadata": {
        "colab": {
          "base_uri": "https://localhost:8080/"
        },
        "id": "Onx05rQLVkZl",
        "outputId": "370936e6-cc2b-4872-f276-e14a3bb89df2"
      },
      "source": [
        "#Question:12\r\n",
        "#Create a 4x4 an array and find the sum of diagonal elements?\r\n",
        "Y_0 = np.arange(0, 16).reshape(4, 4)\r\n",
        "Y_0"
      ],
      "execution_count": 63,
      "outputs": [
        {
          "output_type": "execute_result",
          "data": {
            "text/plain": [
              "array([[ 0,  1,  2,  3],\n",
              "       [ 4,  5,  6,  7],\n",
              "       [ 8,  9, 10, 11],\n",
              "       [12, 13, 14, 15]])"
            ]
          },
          "metadata": {
            "tags": []
          },
          "execution_count": 63
        }
      ]
    },
    {
      "cell_type": "code",
      "metadata": {
        "colab": {
          "base_uri": "https://localhost:8080/"
        },
        "id": "DeeICvI7YqL7",
        "outputId": "f32e8243-176b-4e4c-cbc8-733bcb349df5"
      },
      "source": [
        "np.diag(Y_0)"
      ],
      "execution_count": 64,
      "outputs": [
        {
          "output_type": "execute_result",
          "data": {
            "text/plain": [
              "array([ 0,  5, 10, 15])"
            ]
          },
          "metadata": {
            "tags": []
          },
          "execution_count": 64
        }
      ]
    },
    {
      "cell_type": "code",
      "metadata": {
        "colab": {
          "base_uri": "https://localhost:8080/"
        },
        "id": "vRxsmqSYY-tm",
        "outputId": "701d5448-12b9-4f45-a0a9-73eee5c0cd84"
      },
      "source": [
        "#Question:13\r\n",
        "#Find the determinant of the previous array in Q12?\r\n",
        "np.linalg.det(Y_0)"
      ],
      "execution_count": 66,
      "outputs": [
        {
          "output_type": "execute_result",
          "data": {
            "text/plain": [
              "0.0"
            ]
          },
          "metadata": {
            "tags": []
          },
          "execution_count": 66
        }
      ]
    },
    {
      "cell_type": "code",
      "metadata": {
        "colab": {
          "base_uri": "https://localhost:8080/"
        },
        "id": "gM5kfp44clm_",
        "outputId": "4e7b8298-9584-44d3-9f7d-c1a23e9852cd"
      },
      "source": [
        "#Question:14\r\n",
        "#Find the 5th and 95th percentile of an array?\r\n",
        "np.percentile(Y_0, (5, 95))"
      ],
      "execution_count": 72,
      "outputs": [
        {
          "output_type": "execute_result",
          "data": {
            "text/plain": [
              "array([ 0.75, 14.25])"
            ]
          },
          "metadata": {
            "tags": []
          },
          "execution_count": 72
        }
      ]
    },
    {
      "cell_type": "code",
      "metadata": {
        "colab": {
          "base_uri": "https://localhost:8080/"
        },
        "id": "1x9OPFJ5dgOZ",
        "outputId": "1965c890-7f3d-4583-b059-d97e5e0b27a5"
      },
      "source": [
        "#Question:15\r\n",
        "#How to find if a given array has any null values?\r\n",
        "np.where(Y_0 == 0)"
      ],
      "execution_count": 86,
      "outputs": [
        {
          "output_type": "execute_result",
          "data": {
            "text/plain": [
              "(array([0]), array([0]))"
            ]
          },
          "metadata": {
            "tags": []
          },
          "execution_count": 86
        }
      ]
    },
    {
      "cell_type": "code",
      "metadata": {
        "id": "0zGZDMndek3T"
      },
      "source": [
        ""
      ],
      "execution_count": null,
      "outputs": []
    }
  ]
}